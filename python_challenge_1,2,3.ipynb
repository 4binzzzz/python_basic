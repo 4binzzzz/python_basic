{
 "cells": [
  {
   "cell_type": "code",
   "execution_count": 6,
   "id": "911033be",
   "metadata": {},
   "outputs": [
    {
     "name": "stdout",
     "output_type": "stream",
     "text": [
      "Enter your name : sabeen\n",
      "Hello sabeen\n",
      "Hello sabeen\n"
     ]
    }
   ],
   "source": [
    "#1\n",
    "name = input(\"Enter your name : \")\n",
    "print(f\"Hello {name}\")\n",
    "print('Hello', name)"
   ]
  },
  {
   "cell_type": "code",
   "execution_count": 7,
   "id": "87fe2274",
   "metadata": {},
   "outputs": [
    {
     "name": "stdout",
     "output_type": "stream",
     "text": [
      "Enter your name : sabeen\n",
      "Enter your first name : Wang\n",
      "Hello sabeen Wang\n"
     ]
    }
   ],
   "source": [
    "#2\n",
    "name = input(\"Enter your name : \")\n",
    "firstname = input(\"Enter your first name : \")\n",
    "\n",
    "print(\"Hello\",name,firstname)"
   ]
  },
  {
   "cell_type": "code",
   "execution_count": 11,
   "id": "38cbb2cc",
   "metadata": {},
   "outputs": [
    {
     "name": "stdout",
     "output_type": "stream",
     "text": [
      "What do you call a bear with no teeth?\n",
      "A gummy bear!\n"
     ]
    }
   ],
   "source": [
    "#3\n",
    "print(\"What do you call a bear with no teeth?\\nA gummy bear!\")"
   ]
  },
  {
   "cell_type": "code",
   "execution_count": 12,
   "id": "795ee1cb",
   "metadata": {},
   "outputs": [
    {
     "name": "stdout",
     "output_type": "stream",
     "text": [
      "Enter a number : 3\n",
      "Enter a number : 5\n",
      "The total is 8\n"
     ]
    }
   ],
   "source": [
    "#4\n",
    "a = int(input(\"Enter a number : \"))\n",
    "b = int(input(\"Enter a number : \"))\n",
    "total = a+b\n",
    "print(\"The total is\", total)"
   ]
  },
  {
   "cell_type": "code",
   "execution_count": 13,
   "id": "83fbf141",
   "metadata": {},
   "outputs": [
    {
     "name": "stdout",
     "output_type": "stream",
     "text": [
      "Enter a number : 1\n",
      "Enter a number : 2\n",
      "Enter a number : 3\n",
      "The answer is 9\n"
     ]
    }
   ],
   "source": [
    "#5\n",
    "a = int(input(\"Enter a number : \"))\n",
    "b = int(input(\"Enter a number : \"))\n",
    "c = int(input(\"Enter a number : \"))\n",
    "answer = (a+b)*c\n",
    "print(\"The answer is\", answer)"
   ]
  },
  {
   "cell_type": "code",
   "execution_count": 15,
   "id": "c8b765d7",
   "metadata": {},
   "outputs": [
    {
     "name": "stdout",
     "output_type": "stream",
     "text": [
      "How many slices you started with? 8\n",
      "How many slices have you eaten? 5\n",
      "You have 3 slices.\n"
     ]
    }
   ],
   "source": [
    "#6\n",
    "slices = int(input(\"How many slices you started with? \"))\n",
    "eaten = int(input(\"How many slices have you eaten? \"))\n",
    "remaining = slices - eaten\n",
    "print(\"You have\",remaining,\"slices.\")"
   ]
  },
  {
   "cell_type": "code",
   "execution_count": 17,
   "id": "d8fa6eee",
   "metadata": {},
   "outputs": [
    {
     "name": "stdout",
     "output_type": "stream",
     "text": [
      "Enter your name : sabeen\n",
      "Enter your age : 22\n",
      "sabeen next birthday you will be 23\n"
     ]
    }
   ],
   "source": [
    "#7\n",
    "name = input(\"Enter your name : \")\n",
    "age = int(input(\"Enter your age : \"))\n",
    "print(name, 'next birthday you will be', age+1)"
   ]
  },
  {
   "cell_type": "code",
   "execution_count": 18,
   "id": "ae16a3e7",
   "metadata": {},
   "outputs": [
    {
     "name": "stdout",
     "output_type": "stream",
     "text": [
      "How much is total price? 500\n",
      "How many people did you eat together? 8\n",
      "You can pay 62.5 each.\n"
     ]
    }
   ],
   "source": [
    "#8\n",
    "total_price = int(input(\"How much is total price? \"))\n",
    "people = int(input(\"How many people did you eat together? \"))\n",
    "print(\"You can pay\",total_price/people,\"each.\")"
   ]
  },
  {
   "cell_type": "code",
   "execution_count": 23,
   "id": "e620553b",
   "metadata": {},
   "outputs": [
    {
     "name": "stdout",
     "output_type": "stream",
     "text": [
      "Enter the number of days : 300\n",
      "In 300 days there are... 7200 hours 432000 minutes 25920000 seconds.\n"
     ]
    }
   ],
   "source": [
    "#9\n",
    "days = int(input(\"Enter the number of days : \"))\n",
    "hours = days*24\n",
    "minutes = hours*60\n",
    "seconds = minutes*60\n",
    "print('In',days,'days there are...',hours,'hours',minutes,'minutes',seconds,'seconds.')"
   ]
  },
  {
   "cell_type": "code",
   "execution_count": 21,
   "id": "11ebd6df",
   "metadata": {},
   "outputs": [
    {
     "name": "stdout",
     "output_type": "stream",
     "text": [
      "Enter your weight (kg) : 55.0\n",
      "Your weight is 121.22000000000001 pounds.\n"
     ]
    }
   ],
   "source": [
    "#10\n",
    "#1kg = 2.204pounds\n",
    "weight = float(input(\"Enter your weight (kg) : \"))\n",
    "print(\"Your weight is\",weight*2.204,\"pounds.\")"
   ]
  },
  {
   "cell_type": "code",
   "execution_count": 22,
   "id": "0a63bced",
   "metadata": {},
   "outputs": [
    {
     "name": "stdout",
     "output_type": "stream",
     "text": [
      "Enter the number larger than 100 : 150\n",
      "Enter the number smaller than 10 : 5\n",
      "30\n"
     ]
    }
   ],
   "source": [
    "#11\n",
    "num1 = int(input('Enter the number larger than 100 : '))\n",
    "num2 = int(input('Enter the number smaller than 10 : '))\n",
    "print(num1//num2)"
   ]
  },
  {
   "cell_type": "code",
   "execution_count": 24,
   "id": "d96dbaa6",
   "metadata": {},
   "outputs": [
    {
     "name": "stdout",
     "output_type": "stream",
     "text": [
      "Enter a num : 5\n",
      "Enter a num : 10\n",
      "5 10\n"
     ]
    }
   ],
   "source": [
    "#12\n",
    "a = int(input('Enter a num : '))\n",
    "b = int(input('Enter a num : '))\n",
    "if a>b :\n",
    "    print(b,a)\n",
    "else :\n",
    "    print(a,b)"
   ]
  },
  {
   "cell_type": "code",
   "execution_count": 25,
   "id": "07ddfb9b",
   "metadata": {},
   "outputs": [
    {
     "name": "stdout",
     "output_type": "stream",
     "text": [
      "Enter a num smaller than 20 : 25\n",
      "Too high\n"
     ]
    }
   ],
   "source": [
    "#13\n",
    "a = int(input('Enter a num smaller than 20 : '))\n",
    "if a>=20 :\n",
    "    print(\"Too high\")\n",
    "else :\n",
    "    print(\"Thank you\")"
   ]
  },
  {
   "cell_type": "code",
   "execution_count": 28,
   "id": "d3fd6375",
   "metadata": {},
   "outputs": [
    {
     "name": "stdout",
     "output_type": "stream",
     "text": [
      "Enter a num (10~20) : 20\n",
      "Thank you\n"
     ]
    }
   ],
   "source": [
    "#14\n",
    "a = int(input('Enter a num (10~20) : '))\n",
    "if a>10 and a<=20 :\n",
    "    print('Thank you')\n",
    "else :\n",
    "    print(\"Incorrect answer\")"
   ]
  },
  {
   "cell_type": "code",
   "execution_count": 32,
   "id": "81841ce3",
   "metadata": {},
   "outputs": [
    {
     "name": "stdout",
     "output_type": "stream",
     "text": [
      "Enter your favorite color : red\n",
      "I like red too\n"
     ]
    }
   ],
   "source": [
    "#15\n",
    "color = input('Enter your favorite color : ')\n",
    "if color=='red' or color=='Red' or color=='RED' :\n",
    "    print('I like red too')\n",
    "else :\n",
    "    print(\"I don't like that color, i prefer red\")"
   ]
  },
  {
   "cell_type": "code",
   "execution_count": 40,
   "id": "48b33193",
   "metadata": {},
   "outputs": [
    {
     "name": "stdout",
     "output_type": "stream",
     "text": [
      "Is it raining right now?Yes\n",
      "Is it winding right now?no\n",
      "Take an umbrella\n"
     ]
    }
   ],
   "source": [
    "#16\n",
    "a = input('Is it raining right now?')\n",
    "if a.lower()=='yes' :\n",
    "    b=input('Is it winding right now?')\n",
    "    if b.lower() == 'yes' :\n",
    "        print(\"It is too windy for an umbrella\")\n",
    "    else :\n",
    "        print('Take an umbrella')\n",
    "else :\n",
    "    print('Enjoy your day')"
   ]
  },
  {
   "cell_type": "code",
   "execution_count": 43,
   "id": "710f02d0",
   "metadata": {},
   "outputs": [
    {
     "name": "stdout",
     "output_type": "stream",
     "text": [
      "How old are you?22\n",
      "You can vote\n"
     ]
    }
   ],
   "source": [
    "#17\n",
    "age = int(input('How old are you?'))\n",
    "if age>=18 :\n",
    "    print('You can vote')\n",
    "elif age==17 :\n",
    "    print('you can learn to drive')\n",
    "elif age==16 :\n",
    "    print('you can buy a lottery ticket')\n",
    "else :\n",
    "    print('You can go Trick-or-Treating')"
   ]
  },
  {
   "cell_type": "code",
   "execution_count": 45,
   "id": "4180e6c0",
   "metadata": {},
   "outputs": [
    {
     "name": "stdout",
     "output_type": "stream",
     "text": [
      "Enter a num : 30\n",
      "Too high\n"
     ]
    }
   ],
   "source": [
    "#18\n",
    "a = int(input('Enter a num : '))\n",
    "if a<10 :\n",
    "    print(\"Too low\")\n",
    "elif a>=10 and a<20 :\n",
    "    print(\"Correct\")\n",
    "else :\n",
    "    print(\"Too high\")"
   ]
  },
  {
   "cell_type": "code",
   "execution_count": 46,
   "id": "6e1f0858",
   "metadata": {},
   "outputs": [
    {
     "name": "stdout",
     "output_type": "stream",
     "text": [
      "Enter a num 1 or 2 or 3 : 5\n",
      "Error message\n"
     ]
    }
   ],
   "source": [
    "#19\n",
    "a = int(input('Enter a num 1 or 2 or 3 : '))\n",
    "if a==1 :\n",
    "    print(\"Thank you\")\n",
    "elif a==2 :\n",
    "    print(\"Well done\")\n",
    "elif a==3 :\n",
    "    print(\"Correct\")\n",
    "else :\n",
    "    print(\"Error message\")"
   ]
  },
  {
   "cell_type": "code",
   "execution_count": 47,
   "id": "cad0caa9",
   "metadata": {},
   "outputs": [
    {
     "name": "stdout",
     "output_type": "stream",
     "text": [
      "Enter your name : sabeen\n",
      "The length of the name is 6 characters.\n"
     ]
    }
   ],
   "source": [
    "#20\n",
    "name = input('Enter your name : ')\n",
    "print('The length of the name is',len(name),'characters.')"
   ]
  },
  {
   "cell_type": "code",
   "execution_count": 56,
   "id": "2a1b96e5",
   "metadata": {},
   "outputs": [
    {
     "name": "stdout",
     "output_type": "stream",
     "text": [
      "Enter your name : sabeen\n",
      "Enter your first name : wang\n",
      "sabeen wang\n",
      "The length of the name is 11 characters.\n"
     ]
    }
   ],
   "source": [
    "#21\n",
    "name = input('Enter your name : ')\n",
    "firstname = input('Enter your first name : ')\n",
    "fullname = name+' '+firstname\n",
    "print(fullname)\n",
    "print('The length of the name is',len(fullname),'characters.')"
   ]
  },
  {
   "cell_type": "code",
   "execution_count": 61,
   "id": "10b17a79",
   "metadata": {},
   "outputs": [
    {
     "name": "stdout",
     "output_type": "stream",
     "text": [
      "Enter your name (lower) : sabeen\n",
      "Enter your first name (lower) : wang\n",
      "Sabeen Wang\n"
     ]
    }
   ],
   "source": [
    "#22\n",
    "name = input('Enter your name (lower) : ')\n",
    "firstname = input('Enter your first name (lower) : ')\n",
    "fullname = name.capitalize()+' '+firstname.capitalize()\n",
    "print(fullname)"
   ]
  },
  {
   "cell_type": "code",
   "execution_count": 60,
   "id": "beafa6af",
   "metadata": {},
   "outputs": [
    {
     "name": "stdout",
     "output_type": "stream",
     "text": [
      "Enter lylics : twinkle twinkle little star\n",
      "The length of the lylics is 27\n",
      "Enter the num (started): 5\n",
      "Enter the num (finished) : 26\n",
      "le twinkle little sta\n"
     ]
    }
   ],
   "source": [
    "#23\n",
    "lylics = input('Enter lylics : ')\n",
    "print('The length of the lylics is', len(lylics))\n",
    "num1 = int(input('Enter the num (started): '))\n",
    "num2 = int(input('Enter the num (finished) : '))\n",
    "print(lylics[num1:num2])"
   ]
  },
  {
   "cell_type": "code",
   "execution_count": 62,
   "id": "20a5280b",
   "metadata": {},
   "outputs": [
    {
     "name": "stdout",
     "output_type": "stream",
     "text": [
      "Enter a any word : apple\n",
      "APPLE\n"
     ]
    }
   ],
   "source": [
    "#24\n",
    "word = input('Enter a any word : ')\n",
    "print(word.upper())"
   ]
  },
  {
   "cell_type": "code",
   "execution_count": 65,
   "id": "52b13a1b",
   "metadata": {},
   "outputs": [
    {
     "name": "stdout",
     "output_type": "stream",
     "text": [
      "Enter your name : wang\n",
      "Enter your first name : wang\n",
      "WANGWANG\n"
     ]
    }
   ],
   "source": [
    "#25\n",
    "name = input('Enter your name : ')\n",
    "if len(name)<5 :\n",
    "    firstname = input('Enter your first name : ')\n",
    "    fullname = name+firstname\n",
    "    print(fullname.upper())\n",
    "else :\n",
    "    print(name.lower())"
   ]
  },
  {
   "cell_type": "code",
   "execution_count": 2,
   "id": "4ca07713",
   "metadata": {},
   "outputs": [
    {
     "name": "stdout",
     "output_type": "stream",
     "text": [
      "Enter a word : banana\n",
      "ananabay\n"
     ]
    }
   ],
   "source": [
    "#26\n",
    "word = input('Enter a word : ')\n",
    "first = word[0].lower()\n",
    "length = len(word)\n",
    "rest = word[1:length]\n",
    "if first != \"a\" and first != \"e\" and first != \"i\" and first != \"o\"and first != \"u\" :\n",
    "    newword = rest+first+'ay'\n",
    "else:\n",
    "    newword=word+'way'\n",
    "print(newword.lower())"
   ]
  },
  {
   "cell_type": "code",
   "execution_count": null,
   "id": "a29c5376",
   "metadata": {},
   "outputs": [],
   "source": []
  }
 ],
 "metadata": {
  "kernelspec": {
   "display_name": "Python 3 (ipykernel)",
   "language": "python",
   "name": "python3"
  },
  "language_info": {
   "codemirror_mode": {
    "name": "ipython",
    "version": 3
   },
   "file_extension": ".py",
   "mimetype": "text/x-python",
   "name": "python",
   "nbconvert_exporter": "python",
   "pygments_lexer": "ipython3",
   "version": "3.9.12"
  }
 },
 "nbformat": 4,
 "nbformat_minor": 5
}
