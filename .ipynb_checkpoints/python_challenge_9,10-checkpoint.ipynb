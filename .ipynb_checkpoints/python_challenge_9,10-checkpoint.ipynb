{
 "cells": [
  {
   "cell_type": "code",
   "execution_count": 6,
   "id": "7efa8c69",
   "metadata": {},
   "outputs": [
    {
     "name": "stdout",
     "output_type": "stream",
     "text": [
      "('Korea', 'USA', 'UK', 'Japan', 'China')\n",
      "choose one : Korea\n",
      "0\n"
     ]
    }
   ],
   "source": [
    "#69\n",
    "country = (\"Korea\",'USA','UK','Japan','China')\n",
    "print(country)\n",
    "user = input(\"choose one : \")\n",
    "print(country.index(user))"
   ]
  },
  {
   "cell_type": "code",
   "execution_count": 10,
   "id": "61b521f9",
   "metadata": {},
   "outputs": [
    {
     "name": "stdout",
     "output_type": "stream",
     "text": [
      "Enter a number : 2\n",
      "UK\n"
     ]
    }
   ],
   "source": [
    "#70\n",
    "num = int(input(\"Enter a number : \"))\n",
    "print(country[num])"
   ]
  },
  {
   "cell_type": "code",
   "execution_count": 11,
   "id": "371022f1",
   "metadata": {},
   "outputs": [
    {
     "name": "stdout",
     "output_type": "stream",
     "text": [
      "What's your favorite sport? tennis\n",
      "['baseball', 'football', 'tennis']\n"
     ]
    }
   ],
   "source": [
    "#71\n",
    "sports = ['football','baseball']\n",
    "user = input(\"What's your favorite sport? \")\n",
    "sports.append(user)\n",
    "print(sorted(sports))"
   ]
  },
  {
   "cell_type": "code",
   "execution_count": 12,
   "id": "d9af9546",
   "metadata": {},
   "outputs": [
    {
     "name": "stdout",
     "output_type": "stream",
     "text": [
      "What's your favorite subject? math\n",
      "['kor', 'eng', 'sicience', 'society']\n"
     ]
    }
   ],
   "source": [
    "#72\n",
    "subject = ['kor', 'eng', 'math', 'sicience', 'society']\n",
    "user = input(\"What's your favorite subject? \")\n",
    "subject.remove(user)\n",
    "print(subject)"
   ]
  },
  {
   "cell_type": "code",
   "execution_count": 17,
   "id": "7e0043cd",
   "metadata": {},
   "outputs": [
    {
     "name": "stdout",
     "output_type": "stream",
     "text": [
      "What's your favorite food? rice\n",
      "What's your favorite food? bread\n",
      "What's your favorite food? fruit\n",
      "What's your favorite food? snack\n",
      "{1: 'rice', 2: 'bread', 3: 'fruit', 4: 'snack'}\n",
      "remove food? 4\n",
      "{1: 'rice', 2: 'bread', 3: 'fruit'}\n"
     ]
    }
   ],
   "source": [
    "#73\n",
    "dict = {}\n",
    "for i in range(1,5) :\n",
    "    user = input(\"What's your favorite food? \")\n",
    "    dict[i] = user\n",
    "print(dict)\n",
    "user_remove = int(input(\"remove food? \"))\n",
    "del dict[user_remove]\n",
    "print(dict)"
   ]
  },
  {
   "cell_type": "code",
   "execution_count": 18,
   "id": "e6541c52",
   "metadata": {},
   "outputs": [
    {
     "name": "stdout",
     "output_type": "stream",
     "text": [
      "Enter a number (0~4) : 0\n",
      "Enter a number (5~9) : 5\n",
      "['red', 'orange', 'yellow', 'green', 'blue']\n"
     ]
    }
   ],
   "source": [
    "#74\n",
    "color = ['red','orange','yellow','green','blue','purple','pink','brown','black','white','gray']\n",
    "num1 = int(input(\"Enter a number (0~4) : \"))\n",
    "num2 = int(input(\"Enter a number (5~9) : \"))\n",
    "print(color[num1:num2])"
   ]
  },
  {
   "cell_type": "code",
   "execution_count": 21,
   "id": "3b9dacd9",
   "metadata": {},
   "outputs": [
    {
     "name": "stdout",
     "output_type": "stream",
     "text": [
      "345\n",
      "567\n",
      "789\n",
      "234\n",
      "Enter a number : 5\n",
      "That is not in the list\n"
     ]
    }
   ],
   "source": [
    "#75\n",
    "number_list = [345, 567, 789, 234]\n",
    "for i in number_list :\n",
    "    print(i)\n",
    "num = int(input(\"Enter a number : \"))\n",
    "if num in number_list :\n",
    "    print(number_list.index(num))\n",
    "else :\n",
    "    print('That is not in the list')"
   ]
  },
  {
   "cell_type": "code",
   "execution_count": 25,
   "id": "8a920a4e",
   "metadata": {},
   "outputs": [
    {
     "name": "stdout",
     "output_type": "stream",
     "text": [
      "name ? sabeen\n",
      "name ? wonbeen\n",
      "name ? philix\n",
      "More people?yes\n",
      "name ? hamin\n",
      "More people?n\n",
      "['sabeen', 'wonbeen', 'philix', 'hamin']\n",
      "4\n"
     ]
    }
   ],
   "source": [
    "#76\n",
    "party_list = []\n",
    "for i in range(3) :\n",
    "    user = input(\"name ? \")\n",
    "    party_list.append(user)\n",
    "more = input(\"More people?\")\n",
    "while more!='n' :\n",
    "    user = input(\"name ? \")\n",
    "    party_list.append(user)\n",
    "    more = input(\"More people?\")\n",
    "print(party_list)\n",
    "print(len(party_list))"
   ]
  },
  {
   "cell_type": "code",
   "execution_count": 30,
   "id": "4f2dfec7",
   "metadata": {},
   "outputs": [
    {
     "name": "stdout",
     "output_type": "stream",
     "text": [
      "['sabeen', 'wonbeen', 'philix', 'hamin']\n",
      "Enter a name : hamin\n",
      "3\n",
      "Really invite?n\n",
      "revised_list :  ['sabeen', 'wonbeen', 'philix']\n"
     ]
    }
   ],
   "source": [
    "#77\n",
    "#76 응용\n",
    "print(party_list)\n",
    "name = input(\"Enter a name : \")\n",
    "print(party_list.index(name))\n",
    "answer = input(\"Really invite?\")\n",
    "if answer=='n' :\n",
    "    party_list.remove(name)\n",
    "    print('revised_list : ',party_list)"
   ]
  },
  {
   "cell_type": "code",
   "execution_count": 31,
   "id": "e52b17a8",
   "metadata": {},
   "outputs": [
    {
     "name": "stdout",
     "output_type": "stream",
     "text": [
      "a\n",
      "b\n",
      "c\n",
      "d\n",
      "Enter the title : e\n",
      "index number : 0\n",
      "['e', 'a', 'b', 'c', 'd']\n"
     ]
    }
   ],
   "source": [
    "#78\n",
    "title = ['a','b','c','d']\n",
    "for i in title :\n",
    "    print(i)\n",
    "program = input(\"Enter the title : \")\n",
    "ind = int(input('index number : '))\n",
    "title.insert(ind,program)\n",
    "print(title)"
   ]
  },
  {
   "cell_type": "code",
   "execution_count": 34,
   "id": "2db6e3a4",
   "metadata": {},
   "outputs": [
    {
     "name": "stdout",
     "output_type": "stream",
     "text": [
      "number : 1\n",
      "number : 2\n",
      "number : 3\n",
      "Save last number ?n\n",
      "[1, 2]\n"
     ]
    }
   ],
   "source": [
    "#79\n",
    "nums = []\n",
    "for i in range(3) :\n",
    "    num = int(input('number : '))\n",
    "    nums.append(num)\n",
    "answer = input(\"Save last number ?\")\n",
    "if answer == 'n' :\n",
    "    nums.remove(num) \n",
    "    #num에는 마지막으로 입력된 숫자가 저장되어있기 때문에 마지막 항목 삭제가 결국 num 삭제랑 같음\n",
    "    print(nums)\n",
    "else :\n",
    "    print(nums)"
   ]
  },
  {
   "cell_type": "code",
   "execution_count": 45,
   "id": "fe67aa2e",
   "metadata": {},
   "outputs": [
    {
     "name": "stdout",
     "output_type": "stream",
     "text": [
      "Enter name : sabeen\n",
      "6\n",
      "Enter your firstname :wang\n",
      "4\n",
      "11\n"
     ]
    }
   ],
   "source": [
    "#80\n",
    "name = input(\"Enter name : \")\n",
    "print(len(name))\n",
    "firstname = input('Enter your firstname :')\n",
    "print(len(firstname))\n",
    "fullname = firstname+' '+name\n",
    "print(len(fullname))"
   ]
  },
  {
   "cell_type": "code",
   "execution_count": 7,
   "id": "044ae6f3",
   "metadata": {},
   "outputs": [
    {
     "name": "stdout",
     "output_type": "stream",
     "text": [
      "Enter your favorite subject : math\n",
      "m-a-t-h-"
     ]
    }
   ],
   "source": [
    "#81\n",
    "subject = input(\"Enter your favorite subject : \")\n",
    "for i in subject :\n",
    "    print(i,end='-')"
   ]
  },
  {
   "cell_type": "code",
   "execution_count": 9,
   "id": "150b5fc2",
   "metadata": {},
   "outputs": [
    {
     "name": "stdout",
     "output_type": "stream",
     "text": [
      "Twinkle Twinkle Little Stars\n",
      "Enter a number : 3\n",
      "Enter a number : -1\n",
      "nkle Twinkle Little Star\n"
     ]
    }
   ],
   "source": [
    "#82\n",
    "lylics = \"Twinkle Twinkle Little Stars\"\n",
    "print(lylics)\n",
    "num1 = int(input(\"Enter a number : \"))\n",
    "num2 = int(input(\"Enter a number : \"))\n",
    "print(lylics[num1:num2])"
   ]
  },
  {
   "cell_type": "code",
   "execution_count": 10,
   "id": "28f185fa",
   "metadata": {},
   "outputs": [
    {
     "name": "stdout",
     "output_type": "stream",
     "text": [
      "Any sentence (only capitals) :kdfljd\n",
      "Again : jdkla\n",
      "Again : DFJDK\n"
     ]
    }
   ],
   "source": [
    "#83\n",
    "user = input(\"Any sentence (only capitals) :\")\n",
    "while user.isupper()!=True :\n",
    "    user = input(\"Again : \")"
   ]
  },
  {
   "cell_type": "code",
   "execution_count": 15,
   "id": "bf17338d",
   "metadata": {},
   "outputs": [
    {
     "name": "stdout",
     "output_type": "stream",
     "text": [
      "Any word : math\n",
      "MAth\n"
     ]
    }
   ],
   "source": [
    "#84\n",
    "word = input(\"Any word : \")\n",
    "word = word[0:2].upper() + word[2:]\n",
    "print(word)"
   ]
  },
  {
   "cell_type": "code",
   "execution_count": 16,
   "id": "27e87cc2",
   "metadata": {},
   "outputs": [
    {
     "name": "stdout",
     "output_type": "stream",
     "text": [
      "Enter your name : sabeen\n",
      "Vowels= 3\n"
     ]
    }
   ],
   "source": [
    "#85\n",
    "name = input(\"Enter your name : \")\n",
    "name = name.lower()\n",
    "count=0\n",
    "for x in name :\n",
    "    if x=='a' or x=='e' or x=='i' or x=='o' or x=='u' :\n",
    "        count+=1\n",
    "print('Vowels=',count)"
   ]
  },
  {
   "cell_type": "code",
   "execution_count": 17,
   "id": "003bc28e",
   "metadata": {},
   "outputs": [
    {
     "name": "stdout",
     "output_type": "stream",
     "text": [
      "New Password : sabeen\n",
      "one more : SAbeen\n",
      "They must be in the same case\n"
     ]
    }
   ],
   "source": [
    "#86\n",
    "new_pw = input(\"New Password : \")\n",
    "pw = input(\"one more : \")\n",
    "if new_pw == pw :\n",
    "    print(\"Thank you\")\n",
    "elif new_pw.lower()==pw.lower() :\n",
    "    print(\"They must be in the same case\")\n",
    "else :\n",
    "    print('Incorrect')"
   ]
  },
  {
   "cell_type": "code",
   "execution_count": 18,
   "id": "5c5d7e1f",
   "metadata": {},
   "outputs": [
    {
     "name": "stdout",
     "output_type": "stream",
     "text": [
      "Enter a word : hello\n",
      "o\n",
      "l\n",
      "l\n",
      "e\n",
      "h\n"
     ]
    }
   ],
   "source": [
    "#87 \n",
    "word = input('Enter a word : ')\n",
    "length = len(word)\n",
    "num = 1\n",
    "for x in word :\n",
    "    position = length - num\n",
    "    letter = word[position]\n",
    "    print(letter)\n",
    "    num+=1"
   ]
  },
  {
   "cell_type": "code",
   "execution_count": null,
   "id": "d73d8846",
   "metadata": {},
   "outputs": [],
   "source": []
  }
 ],
 "metadata": {
  "kernelspec": {
   "display_name": "Python 3 (ipykernel)",
   "language": "python",
   "name": "python3"
  },
  "language_info": {
   "codemirror_mode": {
    "name": "ipython",
    "version": 3
   },
   "file_extension": ".py",
   "mimetype": "text/x-python",
   "name": "python",
   "nbconvert_exporter": "python",
   "pygments_lexer": "ipython3",
   "version": "3.9.12"
  }
 },
 "nbformat": 4,
 "nbformat_minor": 5
}
