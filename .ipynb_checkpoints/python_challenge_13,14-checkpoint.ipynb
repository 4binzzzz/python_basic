{
 "cells": [
  {
   "cell_type": "code",
   "execution_count": 19,
   "id": "a6e3003f",
   "metadata": {},
   "outputs": [],
   "source": [
    "#105\n",
    "file = open('Numbers.txt','w')\n",
    "file.write('1, 2, 3, 4, 5')\n",
    "file.close()"
   ]
  },
  {
   "cell_type": "code",
   "execution_count": 24,
   "id": "9595dbe2",
   "metadata": {},
   "outputs": [],
   "source": [
    "#106\n",
    "file_name = open('Names.txt','w')\n",
    "file_name.write('sabeen\\n')\n",
    "file_name.write('A\\n')\n",
    "file_name.write('B\\n')\n",
    "file_name.write('C\\n')\n",
    "file_name.write('D\\n')\n",
    "file_name.close()"
   ]
  },
  {
   "cell_type": "code",
   "execution_count": 27,
   "id": "463eabfc",
   "metadata": {},
   "outputs": [
    {
     "name": "stdout",
     "output_type": "stream",
     "text": [
      "sabeen\n",
      "A\n",
      "B\n",
      "C\n",
      "D\n",
      "\n"
     ]
    }
   ],
   "source": [
    "#107\n",
    "file_name = open('Names.txt','r')\n",
    "print(file_name.read())"
   ]
  },
  {
   "cell_type": "code",
   "execution_count": 32,
   "id": "c5840574",
   "metadata": {},
   "outputs": [
    {
     "name": "stdout",
     "output_type": "stream",
     "text": [
      "Enter name : E\n"
     ]
    }
   ],
   "source": [
    "#108\n",
    "file_name = open('Names.txt','a')\n",
    "user_name = input(\"Enter name : \")\n",
    "file_name.write(user_name)\n",
    "file_name.close()"
   ]
  },
  {
   "cell_type": "code",
   "execution_count": 41,
   "id": "2fb1e63f",
   "metadata": {},
   "outputs": [
    {
     "name": "stdout",
     "output_type": "stream",
     "text": [
      "1) Create a new file\n",
      "2) Display the file\n",
      "3) Add a new item to the file\n",
      "Make a selection 1, 2 or 3 :\n",
      "Enter the number : 1\n",
      "Enter the name of the subject : math\n",
      "Enter the number : 2\n",
      "math\n",
      "\n",
      "Enter the number : 3\n",
      "Enter the name of the subject : kor\n",
      "math\n",
      "kor\n",
      "\n",
      "Enter the number : 1\n",
      "Enter the name of the subject : eng\n",
      "Enter the number : 2\n",
      "eng\n",
      "\n",
      "Enter the number : 3\n",
      "Enter the name of the subject : math\n",
      "eng\n",
      "math\n",
      "\n",
      "Enter the number : 3\n",
      "Enter the name of the subject : kor\n",
      "eng\n",
      "math\n",
      "kor\n",
      "\n",
      "Enter the number : 5\n",
      "Incorrect message\n"
     ]
    }
   ],
   "source": [
    "#109\n",
    "print(\"\"\"1) Create a new file\n",
    "2) Display the file\n",
    "3) Add a new item to the file\n",
    "Make a selection 1, 2 or 3 :\"\"\")\n",
    "user_choice = int(input(\"Enter the number : \"))\n",
    "\n",
    "file_sub = open(\"Subject.txt\",'w')\n",
    "file_sub.close() #첫 입력이 2 또는 3일 경우 해당 파일이 없다면 실행이 안되니까 빈 파일 먼저 생성해놔야 함\n",
    "\n",
    "while user_choice==1 or user_choice==2 or user_choice==3 :\n",
    "    if user_choice==1 :\n",
    "        subject=input(\"Enter the name of the subject : \")\n",
    "        file_sub = open(\"Subject.txt\",'w')\n",
    "        file_sub.write(subject+'\\n')\n",
    "        file_sub.close()\n",
    "        user_choice = int(input(\"Enter the number : \"))\n",
    "    \n",
    "    elif user_choice==2 :\n",
    "        file_sub=open('Subject.txt','r')\n",
    "        print(file_sub.read())\n",
    "        user_choice = int(input(\"Enter the number : \"))\n",
    "\n",
    "    elif user_choice==3 :\n",
    "        new_sub = input(\"Enter the name of the subject : \")\n",
    "        file_sub = open(\"Subject.txt\", 'a')\n",
    "        file_sub.write(new_sub+'\\n')\n",
    "        file_sub.close()\n",
    "        file_sub = open('Subject.txt','r')\n",
    "        print(file_sub.read())\n",
    "        user_choice = int(input(\"Enter the number : \"))\n",
    "\n",
    "print(\"Incorrect message\")"
   ]
  },
  {
   "cell_type": "code",
   "execution_count": 44,
   "id": "41bdd144",
   "metadata": {},
   "outputs": [
    {
     "name": "stdout",
     "output_type": "stream",
     "text": [
      "sabeen\n",
      "A\n",
      "B\n",
      "C\n",
      "D\n",
      "E\n",
      "Enter a name from the list : sabeen\n"
     ]
    }
   ],
   "source": [
    "#110\n",
    "file_name = open('Names.txt','r')\n",
    "print(file_name.read())\n",
    "file_name.close()\n",
    "\n",
    "file_name = open('Names.txt','r')\n",
    "selectedname = input('Enter a name from the list : ')\n",
    "selectedname += '\\n'\n",
    "for row in file_name :\n",
    "    if row != selectedname :\n",
    "        file_name2 = open('Names2.txt','a')\n",
    "        newrecord = row\n",
    "        file_name2.write(newrecord)\n",
    "        file_name2.close()\n",
    "file.close()"
   ]
  },
  {
   "cell_type": "code",
   "execution_count": 45,
   "id": "77b56ab4",
   "metadata": {},
   "outputs": [],
   "source": [
    "import csv"
   ]
  },
  {
   "cell_type": "code",
   "execution_count": 47,
   "id": "ec369a4a",
   "metadata": {},
   "outputs": [],
   "source": [
    "#111\n",
    "file = open('Books.csv','w')\n",
    "newrecord = 'To kill, Lee, 1960\\n'\n",
    "file.write(str(newrecord))\n",
    "newrecord = 'A brief history, Hawking, 1988\\n'\n",
    "file.write(str(newrecord))\n",
    "newrecord = 'the great, Scott, 1922\\n'\n",
    "file.write(str(newrecord))\n",
    "newrecord = 'The man, Oliver, 1985\\n'\n",
    "file.write(str(newrecord))\n",
    "newrecord = 'Pride, Tane, 1813\\n'\n",
    "file.write(str(newrecord))\n",
    "file.close()"
   ]
  },
  {
   "cell_type": "code",
   "execution_count": 49,
   "id": "4027ab2f",
   "metadata": {},
   "outputs": [
    {
     "name": "stdout",
     "output_type": "stream",
     "text": [
      "Enter a title: Toeic\n",
      "Enter author: ybm\n",
      "Enter the year it was released: 2024\n",
      "To kill, Lee, 1960\n",
      "\n",
      "A brief history, Hawking, 1988\n",
      "\n",
      "the great, Scott, 1922\n",
      "\n",
      "The man, Oliver, 1985\n",
      "\n",
      "Pride, Tane, 1813\n",
      "\n",
      "Toeic,ybm,2024\n",
      "\n"
     ]
    }
   ],
   "source": [
    "#112\n",
    "file = open(\"Books.csv\", \"a\")\n",
    "title = input(\"Enter a title: \")\n",
    "author = input(\"Enter author: \")\n",
    "year = input(\"Enter the year it was released: \")\n",
    "newrecord = title + \",\" + author +\",\"+year +\"\\n\"\n",
    "file.write(str(newrecord))\n",
    "file.close()\n",
    "\n",
    "file = open(\"Books.csv\", \"r\")\n",
    "for row in file:\n",
    "    print(row)\n",
    "file.close()"
   ]
  },
  {
   "cell_type": "code",
   "execution_count": 52,
   "id": "bcbcc5c3",
   "metadata": {},
   "outputs": [
    {
     "name": "stdout",
     "output_type": "stream",
     "text": [
      "How many books do you want to add to the list? 2\n",
      "Enter a title: a\n",
      "Enter author: b\n",
      "Enter the year it was released: 2021\n",
      "Enter a title: c\n",
      "Enter author: d\n",
      "Enter the year it was released: 2022\n",
      "Enter an authors name to search for: b\n",
      "A brief history, Hawking, 1988\n",
      "\n",
      "Toeic,ybm,2024\n",
      "\n",
      "a,b,2021\n",
      "\n"
     ]
    }
   ],
   "source": [
    "#113\n",
    "num = int(input(\"How many books do you want to add to the list? \"))\n",
    "file = open(\"Books.csv\", \"a\")\n",
    "for x in range(0, num):\n",
    "    title = input(\"Enter a title: \")\n",
    "    author = input(\"Enter author: \")\n",
    "    year = input(\"Enter the year it was released: \")\n",
    "    newrecord = title + \",\" + author +\",\"+year +\"\\n\"\n",
    "    file.write(str(newrecord))\n",
    "file.close()\n",
    "\n",
    "searchauthor = input(\"Enter an authors name to search for: \")\n",
    "file = open(\"Books.csv\", \"r\")\n",
    "count = 0\n",
    "for row in file:\n",
    "    if searchauthor in str(row):\n",
    "        print(row)\n",
    "        count = count + 1\n",
    "if count == 0:\n",
    "    print(\"There are no books by that author in this list.\")\n",
    "file.close()"
   ]
  },
  {
   "cell_type": "code",
   "execution_count": 53,
   "id": "fbb52540",
   "metadata": {},
   "outputs": [
    {
     "name": "stdout",
     "output_type": "stream",
     "text": [
      "Enter a starting year: 2021\n",
      "Enter an end year: 2024\n",
      "['Toeic', 'ybm', '2024']\n",
      "['speaking', 'a', '2021']\n",
      "['a', 'b', '2021']\n",
      "['c', 'd', '2022']\n"
     ]
    }
   ],
   "source": [
    "#114\n",
    "start = int(input(\"Enter a starting year: \"))\n",
    "end = int(input(\"Enter an end year: \"))\n",
    "\n",
    "file = list(csv.reader(open(\"Books.csv\")))\n",
    "tmp = []\n",
    "for row in file:\n",
    "    tmp.append(row)\n",
    "\n",
    "for row in tmp:\n",
    "    if int(row[2]) >= start and int(row[2]) <= end:\n",
    "        print(row)"
   ]
  },
  {
   "cell_type": "code",
   "execution_count": 55,
   "id": "defd59c1",
   "metadata": {},
   "outputs": [
    {
     "name": "stdout",
     "output_type": "stream",
     "text": [
      "Row: 0\n",
      "Row: 1\n",
      "Row: 2\n",
      "Row: 3\n",
      "Row: 4\n",
      "Row: 5\n",
      "Row: 6\n",
      "Row: 7\n",
      "Row: 8\n"
     ]
    }
   ],
   "source": [
    "#115\n",
    "file = open(\"Books.csv\", \"r\")\n",
    "x = 0\n",
    "for row in file:\n",
    "    display = \"Row: \" + str(x)\n",
    "    print(display)\n",
    "    x+=1"
   ]
  },
  {
   "cell_type": "code",
   "execution_count": 56,
   "id": "d8f3dc2d",
   "metadata": {},
   "outputs": [
    {
     "name": "stdout",
     "output_type": "stream",
     "text": [
      "(0, ['To kill', ' Lee', ' 1960'])\n",
      "(1, ['A brief history', ' Hawking', ' 1988'])\n",
      "(2, ['the great', ' Scott', ' 1922'])\n",
      "(3, ['The man', ' Oliver', ' 1985'])\n",
      "(4, ['Pride', ' Tane', ' 1813'])\n",
      "(5, ['Toeic', 'ybm', '2024'])\n",
      "(6, ['speaking', 'a', '2021'])\n",
      "(7, ['a', 'b', '2021'])\n",
      "(8, ['c', 'd', '2022'])\n",
      "Enter a row number to delete: 6\n",
      "(0, ['To kill', ' Lee', ' 1960'])\n",
      "(1, ['A brief history', ' Hawking', ' 1988'])\n",
      "(2, ['the great', ' Scott', ' 1922'])\n",
      "(3, ['The man', ' Oliver', ' 1985'])\n",
      "(4, ['Pride', ' Tane', ' 1813'])\n",
      "(5, ['Toeic', 'ybm', '2024'])\n",
      "(6, ['a', 'b', '2021'])\n",
      "(7, ['c', 'd', '2022'])\n",
      "Enter a row number to alter: 5\n",
      "(0, 'Toeic')\n",
      "(1, 'ybm')\n",
      "(2, '2024')\n",
      "Which part do you want to change? 1\n",
      "Enter new data: \n",
      "['Toeic', '', '2024']\n"
     ]
    }
   ],
   "source": [
    "#116\n",
    "file = list(csv.reader(open(\"Books.csv\")))\n",
    "Booklist = []\n",
    "for row in file:\n",
    "    Booklist.append(row)\n",
    "\n",
    "x = 0\n",
    "for row in Booklist:\n",
    "    display = x, Booklist[x]\n",
    "    print(display)\n",
    "    x = x + 1\n",
    "getrid = int(input(\"Enter a row number to delete: \"))\n",
    "del Booklist[getrid]\n",
    "\n",
    "x = 0\n",
    "for row in Booklist:\n",
    "    display = x, Booklist[x]\n",
    "    print(display)\n",
    "    x = x + 1\n",
    "alter = int(input(\"Enter a row number to alter: \"))\n",
    "x = 0\n",
    "for row in Booklist[alter]:\n",
    "    display = x, Booklist[alter][x]\n",
    "    print(display)\n",
    "    x += 1\n",
    "part = int(input(\"Which part do you want to change? \"))\n",
    "newdata = input(\"Enter new data: \")\n",
    "Booklist[alter][part] = newdata\n",
    "print(Booklist[alter])\n",
    "\n",
    "file = open(\"Books.csv\", \"w\")\n",
    "for row in Booklist:\n",
    "    newrecord = row[0]+\",\"+row[1]+\",\"+row[2]+\"\\n\"\n",
    "    file.write(newrecord)\n",
    "file.close()"
   ]
  },
  {
   "cell_type": "code",
   "execution_count": 58,
   "id": "f314e2b6",
   "metadata": {},
   "outputs": [
    {
     "name": "stdout",
     "output_type": "stream",
     "text": [
      "What is your name: sabeen\n",
      "45+45=90\n",
      "41+23=64\n"
     ]
    }
   ],
   "source": [
    "#117\n",
    "import random\n",
    "\n",
    "score = 0\n",
    "name = input(\"What is your name: \")\n",
    "q1_numl = random.randint(10, 50)\n",
    "q1_num2 =random.randint(10, 50)\n",
    "question1 =str(q1_numl) + \"+\"+str(q1_num2) +\"=\"\n",
    "ans1=int(input(question1))\n",
    "realans1 = q1_numl + q1_num2\n",
    "if ans1 == realans1:\n",
    "    score = score + 1\n",
    "q2_num1 =random.randint(10, 50)\n",
    "q2_num2 =random.randint(10, 50)\n",
    "question2 = str(q2_num1) + \"+\"+str(q2_num2) +\"=\"\n",
    "ans2 =int(input(question2))\n",
    "realans2 = q2_num1 + q2_num2\n",
    "if ans2 == realans2:\n",
    "    score = score + 1\n",
    "\n",
    "file = open(\"QuizScore.csv\", \"a\")\n",
    "newrecord = name + \",\" + question1 +str(ans1) +\",\"+question2+str(ans2)+\",\" + str(score) + \"\\n\"\n",
    "file.write(str(newrecord))\n",
    "\n",
    "file.close()"
   ]
  }
 ],
 "metadata": {
  "kernelspec": {
   "display_name": "Python 3 (ipykernel)",
   "language": "python",
   "name": "python3"
  },
  "language_info": {
   "codemirror_mode": {
    "name": "ipython",
    "version": 3
   },
   "file_extension": ".py",
   "mimetype": "text/x-python",
   "name": "python",
   "nbconvert_exporter": "python",
   "pygments_lexer": "ipython3",
   "version": "3.9.12"
  }
 },
 "nbformat": 4,
 "nbformat_minor": 5
}
