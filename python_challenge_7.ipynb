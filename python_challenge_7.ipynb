{
 "cells": [
  {
   "cell_type": "code",
   "execution_count": 2,
   "id": "ea6ad422",
   "metadata": {},
   "outputs": [],
   "source": [
    "import random"
   ]
  },
  {
   "cell_type": "code",
   "execution_count": 6,
   "id": "cbdcd78d",
   "metadata": {},
   "outputs": [
    {
     "name": "stdout",
     "output_type": "stream",
     "text": [
      "83\n"
     ]
    }
   ],
   "source": [
    "#52\n",
    "num = random.randint(1,100)\n",
    "print(num)"
   ]
  },
  {
   "cell_type": "code",
   "execution_count": 8,
   "id": "d46040f7",
   "metadata": {},
   "outputs": [
    {
     "name": "stdout",
     "output_type": "stream",
     "text": [
      "kiwi\n"
     ]
    }
   ],
   "source": [
    "#53\n",
    "fruit = random.choice(['apple','banana','grape','kiwi','strawberry'])\n",
    "print(fruit)"
   ]
  },
  {
   "cell_type": "code",
   "execution_count": 18,
   "id": "e538a1de",
   "metadata": {},
   "outputs": [
    {
     "name": "stdout",
     "output_type": "stream",
     "text": [
      "h or t : choose onet\n",
      "bad luck..\n",
      "The answer is  h\n"
     ]
    }
   ],
   "source": [
    "#54\n",
    "computer = random.choice(['h','t'])\n",
    "choose = input('h or t : choose one')\n",
    "if computer==choose :\n",
    "    print('you win!')\n",
    "else :\n",
    "    print('bad luck..')\n",
    "    print('The answer is ',computer)"
   ]
  },
  {
   "cell_type": "code",
   "execution_count": 20,
   "id": "6457814f",
   "metadata": {},
   "outputs": [
    {
     "name": "stdout",
     "output_type": "stream",
     "text": [
      "Enter a number(1~5) : 1\n",
      "up\n",
      "Enter a number(1~5) : 4\n",
      "You lose\n"
     ]
    }
   ],
   "source": [
    "#55\n",
    "num = random.randint(1,5)\n",
    "answer = int(input('Enter a number(1~5) : '))\n",
    "if num==answer :\n",
    "    print('Well done')\n",
    "elif num>answer :\n",
    "    print('up')\n",
    "    answer_2 = int(input('Enter a number(1~5) : '))\n",
    "else :\n",
    "    print('down')\n",
    "    answer_2 = int(input('Enter a number(1~5) : '))\n",
    "    \n",
    "if answer_2 == num :\n",
    "    print('Correct')\n",
    "else :\n",
    "    print('You lose')"
   ]
  },
  {
   "cell_type": "code",
   "execution_count": 14,
   "id": "404d7cf5",
   "metadata": {},
   "outputs": [
    {
     "name": "stdout",
     "output_type": "stream",
     "text": [
      "Enter a number(1~10) : 5\n",
      "Enter a number(1~10) : 7\n",
      "Enter a number(1~10) : 9\n",
      "Enter a number(1~10) : 10\n",
      "Enter a number(1~10) : 1\n",
      "you nailed it!\n"
     ]
    }
   ],
   "source": [
    "#56\n",
    "num = random.randint(1,10)\n",
    "answer = int(input('Enter a number(1~10) : '))\n",
    "while num!=answer :\n",
    "    answer = int(input('Enter a number(1~10) : '))\n",
    "print('you nailed it!')"
   ]
  },
  {
   "cell_type": "code",
   "execution_count": 16,
   "id": "6efe9221",
   "metadata": {},
   "outputs": [
    {
     "name": "stdout",
     "output_type": "stream",
     "text": [
      "Enter a number(1~10) : 5\n",
      "up\n",
      "Enter a number(1~10) : 8\n",
      "you nailed it!\n"
     ]
    }
   ],
   "source": [
    "#57\n",
    "num = random.randint(1,10)\n",
    "answer = int(input('Enter a number(1~10) : '))\n",
    "while num!=answer :\n",
    "    if num>answer :\n",
    "        print('up')\n",
    "        answer = int(input('Enter a number(1~10) : '))\n",
    "    elif num<answer :\n",
    "        print('down')\n",
    "        answer = int(input('Enter a number(1~10) : '))\n",
    "print('you nailed it!')"
   ]
  },
  {
   "cell_type": "code",
   "execution_count": 23,
   "id": "ae41f063",
   "metadata": {},
   "outputs": [
    {
     "name": "stdout",
     "output_type": "stream",
     "text": [
      "26+84=?110\n",
      "76+27=?103\n",
      "22+64=?88\n",
      "51+88=?139\n",
      "50+39=?89\n",
      "4 answers.\n"
     ]
    }
   ],
   "source": [
    "#58\n",
    "correct = 0\n",
    "for i in range(5) :\n",
    "    a=random.randint(1,100)\n",
    "    b=random.randint(1,100)\n",
    "    user_answer = int(input(f'{a}+{b}=?'))\n",
    "    answer = a+b\n",
    "    if user_answer == answer :\n",
    "        correct+=1\n",
    "print(correct,'answers.')"
   ]
  },
  {
   "cell_type": "code",
   "execution_count": 24,
   "id": "4f935fe6",
   "metadata": {},
   "outputs": [
    {
     "name": "stdout",
     "output_type": "stream",
     "text": [
      "choose one ['red','orange','blue','pink','green'] : red\n",
      "choose one ['red','orange','blue','pink','green'] : red\n",
      "choose one ['red','orange','blue','pink','green'] : green\n",
      "Well done\n"
     ]
    }
   ],
   "source": [
    "#59\n",
    "color = random.choice(['red','orange','blue','pink','green'])\n",
    "user_color = input(\"choose one ['red','orange','blue','pink','green'] : \")\n",
    "while color != user_color :\n",
    "    user_color = input(\"choose one ['red','orange','blue','pink','green'] : \")\n",
    "\n",
    "print('Well done')"
   ]
  },
  {
   "cell_type": "code",
   "execution_count": null,
   "id": "032ecc2d",
   "metadata": {},
   "outputs": [],
   "source": []
  }
 ],
 "metadata": {
  "kernelspec": {
   "display_name": "Python 3 (ipykernel)",
   "language": "python",
   "name": "python3"
  },
  "language_info": {
   "codemirror_mode": {
    "name": "ipython",
    "version": 3
   },
   "file_extension": ".py",
   "mimetype": "text/x-python",
   "name": "python",
   "nbconvert_exporter": "python",
   "pygments_lexer": "ipython3",
   "version": "3.9.12"
  }
 },
 "nbformat": 4,
 "nbformat_minor": 5
}
