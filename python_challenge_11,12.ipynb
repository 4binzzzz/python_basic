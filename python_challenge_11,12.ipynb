{
 "cells": [
  {
   "cell_type": "code",
   "execution_count": 8,
   "id": "9aeb5470",
   "metadata": {},
   "outputs": [],
   "source": [
    "from array import *"
   ]
  },
  {
   "cell_type": "code",
   "execution_count": 10,
   "id": "9155f39e",
   "metadata": {},
   "outputs": [
    {
     "name": "stdout",
     "output_type": "stream",
     "text": [
      "Enter a number : 1\n",
      "Enter a number : 2\n",
      "Enter a number : 3\n",
      "Enter a number : 4\n",
      "Enter a number : 5\n",
      "[5, 4, 3, 2, 1]\n"
     ]
    }
   ],
   "source": [
    "#88\n",
    "nums = array('i',[])\n",
    "\n",
    "for i in range(0,5) :\n",
    "    num = int(input(\"Enter a number : \"))\n",
    "    nums.append(num)\n",
    "    \n",
    "nums=sorted(nums)\n",
    "nums.reverse()\n",
    "print(nums)"
   ]
  },
  {
   "cell_type": "code",
   "execution_count": 21,
   "id": "5b66c31a",
   "metadata": {},
   "outputs": [
    {
     "name": "stdout",
     "output_type": "stream",
     "text": [
      "77\n",
      "100\n",
      "79\n",
      "33\n",
      "53\n"
     ]
    }
   ],
   "source": [
    "#89\n",
    "import random\n",
    "arr = array('i',[])\n",
    "for i in range(5) :\n",
    "    a = random.randint(1,100)\n",
    "    arr.append(a)\n",
    "for k in arr :\n",
    "    print(k)"
   ]
  },
  {
   "cell_type": "code",
   "execution_count": 18,
   "id": "58e80c29",
   "metadata": {},
   "outputs": [
    {
     "name": "stdout",
     "output_type": "stream",
     "text": [
      "Enter a number : 1\n",
      "Outside the range\n",
      "Enter a number : 3\n",
      "Outside the range\n",
      "Enter a number : 15\n",
      "Enter a number : 16\n",
      "Enter a number : 17\n",
      "Enter a number : 9\n",
      "Outside the range\n",
      "Enter a number : 18\n",
      "Enter a number : 19\n",
      "Thank you\n",
      "15\n",
      "16\n",
      "17\n",
      "18\n",
      "19\n"
     ]
    }
   ],
   "source": [
    "#90\n",
    "count=1\n",
    "arr = array('i',[])\n",
    "while count<6 :\n",
    "    num = int(input(\"Enter a number : \"))\n",
    "    if num>10 and num<20 :\n",
    "        arr.append(num)\n",
    "        count+=1\n",
    "    else :\n",
    "        print(\"Outside the range\")\n",
    "        continue\n",
    "print('Thank you')\n",
    "for i in arr :\n",
    "    print(i)"
   ]
  },
  {
   "cell_type": "code",
   "execution_count": 24,
   "id": "977afd18",
   "metadata": {},
   "outputs": [
    {
     "name": "stdout",
     "output_type": "stream",
     "text": [
      "array('i', [1, 1, 2, 2, 3])\n",
      "Enter a num : 1\n",
      "2\n"
     ]
    }
   ],
   "source": [
    "#91\n",
    "arr = array('i',[1,1,2,2,3])\n",
    "print(arr)\n",
    "num = int(input('Enter a num : '))\n",
    "print(arr.count(num))"
   ]
  },
  {
   "cell_type": "code",
   "execution_count": 28,
   "id": "c05e80c3",
   "metadata": {},
   "outputs": [
    {
     "name": "stdout",
     "output_type": "stream",
     "text": [
      "Enter a num : 1\n",
      "Enter a num : 2\n",
      "Enter a num : 3\n",
      "1\n",
      "2\n",
      "3\n",
      "18\n",
      "39\n",
      "62\n",
      "93\n",
      "96\n"
     ]
    }
   ],
   "source": [
    "#92\n",
    "import random\n",
    "\n",
    "arr1 = array('i',[])\n",
    "for i in range(3) :\n",
    "    a = int(input(\"Enter a num : \"))\n",
    "    arr1.append(a)\n",
    "    \n",
    "arr2 = array('i',[])\n",
    "for k in range(5) :\n",
    "    b = random.randint(1,100)\n",
    "    arr2.append(b)\n",
    "    \n",
    "arr3 = arr1+arr2\n",
    "arr3 = sorted(arr3)\n",
    "for j in arr3 :\n",
    "    print(j)"
   ]
  },
  {
   "cell_type": "code",
   "execution_count": 30,
   "id": "b30497e8",
   "metadata": {},
   "outputs": [
    {
     "name": "stdout",
     "output_type": "stream",
     "text": [
      "Enter a num : 1\n",
      "Enter a num : 2\n",
      "Enter a num : 3\n",
      "Enter a num : 4\n",
      "Enter a num : 5\n",
      "[1, 2, 3, 4, 5]\n",
      "Enter a num : 3\n",
      "[1, 2, 4, 5]\n",
      "array('i', [3])\n"
     ]
    }
   ],
   "source": [
    "#93\n",
    "arr1 = array('i',[])\n",
    "for i in range(5) :\n",
    "    a = int(input(\"Enter a num : \"))\n",
    "    arr1.append(a)\n",
    "    \n",
    "arr1 = sorted(arr1)\n",
    "print(arr1)\n",
    "\n",
    "num = int(input(\"Enter a num : \"))\n",
    "arr1.remove(num)\n",
    "print(arr1)\n",
    "\n",
    "arr2 = array('i',[])\n",
    "arr2.append(num)\n",
    "print(arr2)"
   ]
  },
  {
   "cell_type": "code",
   "execution_count": 32,
   "id": "2950ed39",
   "metadata": {},
   "outputs": [
    {
     "name": "stdout",
     "output_type": "stream",
     "text": [
      "array('i', [1, 2, 3, 4, 5])\n",
      "Enter a num : 6\n",
      "Enter a num : 7\n",
      "Enter a num : 2\n",
      "1\n"
     ]
    }
   ],
   "source": [
    "#94\n",
    "arr = array('i',[1,2,3,4,5])\n",
    "print(arr)\n",
    "num = int(input(\"Enter a num : \"))\n",
    "while num not in arr :\n",
    "    num = int(input(\"Enter a num : \"))\n",
    "print(arr.index(num))"
   ]
  },
  {
   "cell_type": "code",
   "execution_count": 36,
   "id": "aaf6cc3b",
   "metadata": {},
   "outputs": [
    {
     "name": "stdout",
     "output_type": "stream",
     "text": [
      "Enter a num (2~5) : 9\n",
      "Incorrect value, try again\n",
      "Enter a num (2~5) : 1\n",
      "Incorrect value, try again\n",
      "Enter a num (2~5) : 3\n",
      "1.67\n",
      "1.33\n",
      "1.0\n",
      "0.67\n",
      "0.33\n"
     ]
    }
   ],
   "source": [
    "#95\n",
    "arr = array('f', [34.75, 27.23, 99.58, 45.26, 28.65])\n",
    "tryagain = True\n",
    "while tryagain==True:\n",
    "    num = int(input(\"Enter a num (2~5) : \"))\n",
    "    if num<2 or num>5 :\n",
    "        print(\"Incorrect value, try again\")\n",
    "    else:\n",
    "        tryagain=False\n",
    "\n",
    "for i in range(0,5) :\n",
    "    ans = nums[i]/num\n",
    "    print(round(ans,2))"
   ]
  },
  {
   "cell_type": "code",
   "execution_count": 1,
   "id": "9b7a218f",
   "metadata": {},
   "outputs": [],
   "source": [
    "#96\n",
    "list = [[2,5,8],[3,7,4],[1,6,9],[4,2,0]]"
   ]
  },
  {
   "cell_type": "code",
   "execution_count": 2,
   "id": "81d0653d",
   "metadata": {},
   "outputs": [
    {
     "name": "stdout",
     "output_type": "stream",
     "text": [
      "Select a row : 0\n",
      "Select a col : 2\n",
      "8\n"
     ]
    }
   ],
   "source": [
    "#97\n",
    "list = [[2,5,8],[3,7,4],[1,6,9],[4,2,0]]\n",
    "row = int(input(\"Select a row : \"))\n",
    "col = int(input(\"Select a col : \"))\n",
    "print(list[row][col])"
   ]
  },
  {
   "cell_type": "code",
   "execution_count": 4,
   "id": "671fbb4a",
   "metadata": {},
   "outputs": [
    {
     "name": "stdout",
     "output_type": "stream",
     "text": [
      "Select a row : 2\n",
      "[1, 6, 9]\n",
      "Enter a number : 0\n",
      "[1, 6, 9, 0]\n"
     ]
    }
   ],
   "source": [
    "#98\n",
    "list = [[2,5,8],[3,7,4],[1,6,9],[4,2,0]]\n",
    "row = int(input(\"Select a row : \"))\n",
    "print(list[row])\n",
    "num = int(input(\"Enter a number : \"))\n",
    "list[row].append(num)\n",
    "print(list[row])"
   ]
  },
  {
   "cell_type": "code",
   "execution_count": 5,
   "id": "eea0174a",
   "metadata": {},
   "outputs": [
    {
     "name": "stdout",
     "output_type": "stream",
     "text": [
      "Select a row : 1\n",
      "[3, 7, 4]\n",
      "Select a col : 1\n",
      "7\n",
      "Do you want to change the value?n\n",
      "[3, 7, 4]\n"
     ]
    }
   ],
   "source": [
    "#99\n",
    "list = [[2,5,8],[3,7,4],[1,6,9],[4,2,0]]\n",
    "row = int(input(\"Select a row : \"))\n",
    "print(list[row])\n",
    "col = int(input(\"Select a col : \"))\n",
    "print(list[row][col])\n",
    "change = input(\"Do you want to change the value?\")\n",
    "if change == 'y' :\n",
    "    newvalue = int(input('Enter new value : '))\n",
    "    list[row][col] = newvalue\n",
    "print(list[row])"
   ]
  },
  {
   "cell_type": "code",
   "execution_count": 8,
   "id": "be6b3122",
   "metadata": {},
   "outputs": [
    {
     "name": "stdout",
     "output_type": "stream",
     "text": [
      "Enter name : sabeen\n",
      "Enter age : 22\n",
      "Enter shoe size : 20\n",
      "Enter name : k\n",
      "Enter age : 21\n",
      "Enter shoe size : 12\n",
      "Enter name : l\n",
      "Enter age : 17\n",
      "Enter shoe size : 19\n",
      "Enter name : s\n",
      "Enter age : 20\n",
      "Enter shoe size : 20\n",
      "Enter a name :s\n",
      "{'Age': 20, 'Shoe size': 20}\n"
     ]
    }
   ],
   "source": [
    "#102\n",
    "list = {}\n",
    "for i in range(0,4) :\n",
    "    name=input('Enter name : ')\n",
    "    age = int(input(\"Enter age : \"))\n",
    "    shoe = int(input(\"Enter shoe size : \"))\n",
    "    list[name] = {'Age':age,'Shoe size':shoe}\n",
    "    \n",
    "ask = input('Enter a name :')\n",
    "print(list[ask])"
   ]
  },
  {
   "cell_type": "code",
   "execution_count": 6,
   "id": "4cc97a3a",
   "metadata": {},
   "outputs": [
    {
     "name": "stdout",
     "output_type": "stream",
     "text": [
      "Enter name : sabeen\n",
      "Enter age : 22\n",
      "Enter shoe size : 20\n",
      "Enter name : k\n",
      "Enter age : 20\n",
      "Enter shoe size : 15\n",
      "Enter name : a\n",
      "Enter age : 25\n",
      "Enter shoe size : 23\n",
      "Enter name : v\n",
      "Enter age : 21\n",
      "Enter shoe size : 19\n",
      "sabeen 22\n",
      "k 20\n",
      "a 25\n",
      "v 21\n"
     ]
    }
   ],
   "source": [
    "#103\n",
    "list = {}\n",
    "for i in range(0,4) :\n",
    "    name=input('Enter name : ')\n",
    "    age = int(input(\"Enter age : \"))\n",
    "    shoe = int(input(\"Enter shoe size : \"))\n",
    "    list[name] = {'Age':age,'Shoe size':shoe}\n",
    "    \n",
    "for name in list :\n",
    "    print(name, list[name]['Age'])"
   ]
  },
  {
   "cell_type": "code",
   "execution_count": 9,
   "id": "88c1afbe",
   "metadata": {},
   "outputs": [
    {
     "name": "stdout",
     "output_type": "stream",
     "text": [
      "Enter name : sabeen\n",
      "Enter age : 22\n",
      "Enter shoe size : 20\n",
      "Enter name : k\n",
      "Enter age : 12\n",
      "Enter shoe size : 15\n",
      "Enter name : d\n",
      "Enter age : 16\n",
      "Enter shoe size : 19\n",
      "Enter name : s\n",
      "Enter age : 18\n",
      "Enter shoe size : 17\n",
      "Who do you want to remove from the list?s\n",
      "sabeen 22 20\n",
      "k 12 15\n",
      "d 16 19\n"
     ]
    }
   ],
   "source": [
    "#104\n",
    "list = {}\n",
    "for i in range(0,4) :\n",
    "    name=input('Enter name : ')\n",
    "    age = int(input(\"Enter age : \"))\n",
    "    shoe = int(input(\"Enter shoe size : \"))\n",
    "    list[name] = {'Age':age,'Shoe size':shoe}\n",
    "    \n",
    "getrid = input('Who do you want to remove from the list?')\n",
    "del list[getrid]\n",
    "\n",
    "for name in list :\n",
    "    print(name, list[name]['Age'], list[name]['Shoe size'])"
   ]
  },
  {
   "cell_type": "code",
   "execution_count": null,
   "id": "0085a866",
   "metadata": {},
   "outputs": [],
   "source": []
  }
 ],
 "metadata": {
  "kernelspec": {
   "display_name": "Python 3 (ipykernel)",
   "language": "python",
   "name": "python3"
  },
  "language_info": {
   "codemirror_mode": {
    "name": "ipython",
    "version": 3
   },
   "file_extension": ".py",
   "mimetype": "text/x-python",
   "name": "python",
   "nbconvert_exporter": "python",
   "pygments_lexer": "ipython3",
   "version": "3.9.12"
  }
 },
 "nbformat": 4,
 "nbformat_minor": 5
}
