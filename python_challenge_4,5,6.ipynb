{
 "cells": [
  {
   "cell_type": "code",
   "execution_count": 1,
   "id": "b5bbff82",
   "metadata": {},
   "outputs": [
    {
     "name": "stdout",
     "output_type": "stream",
     "text": [
      "Enter a num : 57.9387349\n",
      "115.8774698\n"
     ]
    }
   ],
   "source": [
    "#27\n",
    "num = float(input(\"Enter a num : \"))\n",
    "print(num*2)"
   ]
  },
  {
   "cell_type": "code",
   "execution_count": 2,
   "id": "e77aee4a",
   "metadata": {},
   "outputs": [
    {
     "name": "stdout",
     "output_type": "stream",
     "text": [
      "Enter a num : 57.9387349\n",
      "115.88\n"
     ]
    }
   ],
   "source": [
    "#28\n",
    "num = float(input(\"Enter a num : \"))\n",
    "print(round(num*2,2))"
   ]
  },
  {
   "cell_type": "code",
   "execution_count": 4,
   "id": "07bc73bb",
   "metadata": {},
   "outputs": [
    {
     "name": "stdout",
     "output_type": "stream",
     "text": [
      "Enter a num (larger than 500) : 555\n",
      "23.56\n"
     ]
    }
   ],
   "source": [
    "#29\n",
    "import math\n",
    "num = int(input(\"Enter a num (larger than 500) : \"))\n",
    "print(round(math.sqrt(num),2))"
   ]
  },
  {
   "cell_type": "code",
   "execution_count": 8,
   "id": "9dca6230",
   "metadata": {},
   "outputs": [
    {
     "name": "stdout",
     "output_type": "stream",
     "text": [
      "3.14159\n"
     ]
    }
   ],
   "source": [
    "#30\n",
    "import math\n",
    "print(round(math.pi,5))"
   ]
  },
  {
   "cell_type": "code",
   "execution_count": 6,
   "id": "40ff990e",
   "metadata": {},
   "outputs": [
    {
     "name": "stdout",
     "output_type": "stream",
     "text": [
      "Enter a r : 5\n",
      "78.5\n"
     ]
    }
   ],
   "source": [
    "#31\n",
    "r = int(input(\"Enter a r : \"))\n",
    "pi=3.14\n",
    "print(r**2*pi)"
   ]
  },
  {
   "cell_type": "code",
   "execution_count": 9,
   "id": "9284cf02",
   "metadata": {},
   "outputs": [
    {
     "name": "stdout",
     "output_type": "stream",
     "text": [
      "Enter a num : 5\n",
      "Enter a num : 7\n",
      "549.779\n"
     ]
    }
   ],
   "source": [
    "#32\n",
    "import math\n",
    "r = int(input(\"Enter a num : \"))\n",
    "height = int(input(\"Enter a num : \"))\n",
    "answer = math.pi*r**2 * height\n",
    "print(round(answer,3))"
   ]
  },
  {
   "cell_type": "code",
   "execution_count": 7,
   "id": "ed6b9350",
   "metadata": {},
   "outputs": [
    {
     "name": "stdout",
     "output_type": "stream",
     "text": [
      "Enter a num : 7\n",
      "Enter a num : 2\n",
      "7 divided by 2 is 3 with 1 remaining\n"
     ]
    }
   ],
   "source": [
    "#33\n",
    "num1 = int(input(\"Enter a num : \"))\n",
    "num2 = int(input(\"Enter a num : \"))\n",
    "print(f'{num1} divided by {num2} is {num1//num2} with {num1%num2} remaining')"
   ]
  },
  {
   "cell_type": "code",
   "execution_count": 16,
   "id": "8fef810b",
   "metadata": {},
   "outputs": [
    {
     "name": "stdout",
     "output_type": "stream",
     "text": [
      "1) Square\n",
      "2) Triangle\n",
      "\n",
      "Enter a number : 2\n",
      "Enter a num : 3\n",
      "Enter a num : 9\n",
      "13.5\n"
     ]
    }
   ],
   "source": [
    "#34\n",
    "print(\"\"\"1) Square\n",
    "2) Triangle\n",
    "\"\"\")\n",
    "\n",
    "num = int(input('Enter a number : '))\n",
    "\n",
    "if num==1 :\n",
    "    a = int(input('Enter a num : '))\n",
    "    print(a**2)\n",
    "elif num==2 :\n",
    "    b = int(input('Enter a num : '))\n",
    "    c = int(input('Enter a num : '))\n",
    "    print(b*c/2)\n",
    "else :\n",
    "    print(\"Incorrect\")"
   ]
  },
  {
   "cell_type": "code",
   "execution_count": 17,
   "id": "aad1fdc9",
   "metadata": {},
   "outputs": [
    {
     "name": "stdout",
     "output_type": "stream",
     "text": [
      "Enter a number : sabeen\n",
      "sabeen\n",
      "sabeen\n",
      "sabeen\n"
     ]
    }
   ],
   "source": [
    "#35\n",
    "name = input(\"Enter your name : \")\n",
    "for i in range(3) :\n",
    "    print(name)"
   ]
  },
  {
   "cell_type": "code",
   "execution_count": 18,
   "id": "42561402",
   "metadata": {},
   "outputs": [
    {
     "name": "stdout",
     "output_type": "stream",
     "text": [
      "Enter your name : sabeen\n",
      "Enter a number : 22\n",
      "sabeen\n",
      "sabeen\n",
      "sabeen\n",
      "sabeen\n",
      "sabeen\n",
      "sabeen\n",
      "sabeen\n",
      "sabeen\n",
      "sabeen\n",
      "sabeen\n",
      "sabeen\n",
      "sabeen\n",
      "sabeen\n",
      "sabeen\n",
      "sabeen\n",
      "sabeen\n",
      "sabeen\n",
      "sabeen\n",
      "sabeen\n",
      "sabeen\n",
      "sabeen\n",
      "sabeen\n"
     ]
    }
   ],
   "source": [
    "#36\n",
    "name = input(\"Enter your name : \")\n",
    "age = int(input(\"Enter a number : \"))\n",
    "for i in range(age) :\n",
    "    print(name)"
   ]
  },
  {
   "cell_type": "code",
   "execution_count": 19,
   "id": "17b8c40a",
   "metadata": {},
   "outputs": [
    {
     "name": "stdout",
     "output_type": "stream",
     "text": [
      "Enter your name : sabeen\n",
      "s\n",
      "a\n",
      "b\n",
      "e\n",
      "e\n",
      "n\n"
     ]
    }
   ],
   "source": [
    "#37\n",
    "name = input(\"Enter your name : \")\n",
    "for i in range(0,len(name)) :\n",
    "    print(name[i])"
   ]
  },
  {
   "cell_type": "code",
   "execution_count": 22,
   "id": "4c42ef05",
   "metadata": {},
   "outputs": [
    {
     "name": "stdout",
     "output_type": "stream",
     "text": [
      "Enter your name : sabeen\n",
      "s\n",
      "a\n",
      "b\n",
      "e\n",
      "e\n",
      "n\n"
     ]
    }
   ],
   "source": [
    "#37_다른 방법\n",
    "name = input(\"Enter your name : \")\n",
    "for i in name :\n",
    "    print(i)"
   ]
  },
  {
   "cell_type": "code",
   "execution_count": 32,
   "id": "c3d69d30",
   "metadata": {},
   "outputs": [
    {
     "name": "stdout",
     "output_type": "stream",
     "text": [
      "Enter your name : sabeen\n",
      "Enter a number : 22\n",
      "s\n",
      "a\n",
      "b\n",
      "e\n",
      "e\n",
      "n\n",
      "s\n",
      "a\n",
      "b\n",
      "e\n",
      "e\n",
      "n\n",
      "s\n",
      "a\n",
      "b\n",
      "e\n",
      "e\n",
      "n\n",
      "s\n",
      "a\n",
      "b\n",
      "e\n",
      "e\n",
      "n\n",
      "s\n",
      "a\n",
      "b\n",
      "e\n",
      "e\n",
      "n\n",
      "s\n",
      "a\n",
      "b\n",
      "e\n",
      "e\n",
      "n\n",
      "s\n",
      "a\n",
      "b\n",
      "e\n",
      "e\n",
      "n\n",
      "s\n",
      "a\n",
      "b\n",
      "e\n",
      "e\n",
      "n\n",
      "s\n",
      "a\n",
      "b\n",
      "e\n",
      "e\n",
      "n\n",
      "s\n",
      "a\n",
      "b\n",
      "e\n",
      "e\n",
      "n\n",
      "s\n",
      "a\n",
      "b\n",
      "e\n",
      "e\n",
      "n\n",
      "s\n",
      "a\n",
      "b\n",
      "e\n",
      "e\n",
      "n\n",
      "s\n",
      "a\n",
      "b\n",
      "e\n",
      "e\n",
      "n\n",
      "s\n",
      "a\n",
      "b\n",
      "e\n",
      "e\n",
      "n\n",
      "s\n",
      "a\n",
      "b\n",
      "e\n",
      "e\n",
      "n\n",
      "s\n",
      "a\n",
      "b\n",
      "e\n",
      "e\n",
      "n\n",
      "s\n",
      "a\n",
      "b\n",
      "e\n",
      "e\n",
      "n\n",
      "s\n",
      "a\n",
      "b\n",
      "e\n",
      "e\n",
      "n\n",
      "s\n",
      "a\n",
      "b\n",
      "e\n",
      "e\n",
      "n\n",
      "s\n",
      "a\n",
      "b\n",
      "e\n",
      "e\n",
      "n\n",
      "s\n",
      "a\n",
      "b\n",
      "e\n",
      "e\n",
      "n\n",
      "s\n",
      "a\n",
      "b\n",
      "e\n",
      "e\n",
      "n\n"
     ]
    }
   ],
   "source": [
    "#38\n",
    "name = input(\"Enter your name : \")\n",
    "age = int(input(\"Enter a number : \"))\n",
    "for i in range(0,age) :\n",
    "    for k in name :\n",
    "        print(k)"
   ]
  },
  {
   "cell_type": "code",
   "execution_count": 35,
   "id": "4eddafe4",
   "metadata": {},
   "outputs": [
    {
     "name": "stdout",
     "output_type": "stream",
     "text": [
      "Enter a num (1~12) : 3\n",
      "3 * 1 = 3\n",
      "3 * 2 = 6\n",
      "3 * 3 = 9\n",
      "3 * 4 = 12\n",
      "3 * 5 = 15\n",
      "3 * 6 = 18\n",
      "3 * 7 = 21\n",
      "3 * 8 = 24\n",
      "3 * 9 = 27\n",
      "3 * 10 = 30\n",
      "3 * 11 = 33\n",
      "3 * 12 = 36\n"
     ]
    }
   ],
   "source": [
    "#39\n",
    "num = int(input('Enter a num (1~12) : '))\n",
    "for i in range (1,13) :\n",
    "    print(f'{num} * {i} = {num*i}')"
   ]
  },
  {
   "cell_type": "code",
   "execution_count": 39,
   "id": "8fc8024b",
   "metadata": {},
   "outputs": [
    {
     "name": "stdout",
     "output_type": "stream",
     "text": [
      "Enter a num (1~49) : 10\n",
      "50\n",
      "49\n",
      "48\n",
      "47\n",
      "46\n",
      "45\n",
      "44\n",
      "43\n",
      "42\n",
      "41\n",
      "40\n",
      "39\n",
      "38\n",
      "37\n",
      "36\n",
      "35\n",
      "34\n",
      "33\n",
      "32\n",
      "31\n",
      "30\n",
      "29\n",
      "28\n",
      "27\n",
      "26\n",
      "25\n",
      "24\n",
      "23\n",
      "22\n",
      "21\n",
      "20\n",
      "19\n",
      "18\n",
      "17\n",
      "16\n",
      "15\n",
      "14\n",
      "13\n",
      "12\n",
      "11\n",
      "10\n"
     ]
    }
   ],
   "source": [
    "#40\n",
    "num = int(input('Enter a num (1~49) : '))\n",
    "for i in range(50-num+1) :\n",
    "    print(50-i)"
   ]
  },
  {
   "cell_type": "code",
   "execution_count": 40,
   "id": "798e9937",
   "metadata": {},
   "outputs": [
    {
     "name": "stdout",
     "output_type": "stream",
     "text": [
      "Enter your name : sabeen\n",
      "Enter a number : 5\n",
      "sabeen\n",
      "sabeen\n",
      "sabeen\n",
      "sabeen\n",
      "sabeen\n"
     ]
    }
   ],
   "source": [
    "#41\n",
    "name = input(\"Enter your name : \")\n",
    "num = int(input(\"Enter a number : \"))\n",
    "if num < 10 :\n",
    "    for i in range(num) :\n",
    "        print(name)\n",
    "else :\n",
    "    for i in range(3) :\n",
    "        print(\"Too high\")"
   ]
  },
  {
   "cell_type": "code",
   "execution_count": 47,
   "id": "72b1ecaf",
   "metadata": {},
   "outputs": [
    {
     "name": "stdout",
     "output_type": "stream",
     "text": [
      "Enter a num : 5\n",
      "Adding total? : yes\n",
      "Enter a num : 4\n",
      "Adding total? : no\n",
      "Enter a num : 5\n",
      "Adding total? : yes\n",
      "Enter a num : 5\n",
      "Adding total? : yes\n",
      "Enter a num : 5\n",
      "Adding total? : yes\n",
      "20\n"
     ]
    }
   ],
   "source": [
    "#42\n",
    "total = 0\n",
    "for i in range (5) :\n",
    "    num = int(input('Enter a num : '))\n",
    "    answer = input('Adding total? : ')\n",
    "    if answer == 'yes' :\n",
    "        total+=num\n",
    "    else :\n",
    "        pass\n",
    "        \n",
    "print(total)"
   ]
  },
  {
   "cell_type": "code",
   "execution_count": 57,
   "id": "fcbbca7b",
   "metadata": {},
   "outputs": [
    {
     "name": "stdout",
     "output_type": "stream",
     "text": [
      "Up or Down? Down\n",
      "Enter a num (~20): 10\n",
      "20\n",
      "19\n",
      "18\n",
      "17\n",
      "16\n",
      "15\n",
      "14\n",
      "13\n",
      "12\n",
      "11\n",
      "10\n"
     ]
    }
   ],
   "source": [
    "#43\n",
    "answer = input(\"Up or Down? \")\n",
    "if answer == 'Up':\n",
    "    max_num = int(input(\"Enter a num : \"))\n",
    "    for i in range(1,max_num+1) :\n",
    "        print(i)\n",
    "elif answer == 'Down' :\n",
    "    min_num = int(input(\"Enter a num (~20): \"))\n",
    "    for i in range(20,min_num-1,-1) :\n",
    "        print(i)\n",
    "else :\n",
    "    print(\"I don't understand\")"
   ]
  },
  {
   "cell_type": "code",
   "execution_count": 58,
   "id": "af78b4e7",
   "metadata": {},
   "outputs": [
    {
     "name": "stdout",
     "output_type": "stream",
     "text": [
      "How many people would you like to invite?3\n",
      "Enter the name : sabeen\n",
      "sabeen has been invited.\n",
      "Enter the name : philix\n",
      "philix has been invited.\n",
      "Enter the name : wonbeen\n",
      "wonbeen has been invited.\n"
     ]
    }
   ],
   "source": [
    "#44\n",
    "num = int(input(\"How many people would you like to invite?\"))\n",
    "if num<10 :\n",
    "    for i in range(num) :\n",
    "        name = input('Enter the name : ')\n",
    "        print(name, 'has been invited.')\n",
    "elif num>=10 :\n",
    "    print(\"Too many people\")"
   ]
  },
  {
   "cell_type": "code",
   "execution_count": 62,
   "id": "0387db3c",
   "metadata": {},
   "outputs": [
    {
     "name": "stdout",
     "output_type": "stream",
     "text": [
      "Enter a num :5\n",
      "The total is  5\n",
      "Enter a num :7\n",
      "The total is  12\n",
      "Enter a num :30\n",
      "The total is  42\n",
      "Enter a num :9\n",
      "The total is  51\n"
     ]
    }
   ],
   "source": [
    "#45\n",
    "total = 0\n",
    "while total<50 :\n",
    "    num = int(input(\"Enter a num :\"))\n",
    "    total+=num\n",
    "    print('The total is ',total)"
   ]
  },
  {
   "cell_type": "code",
   "execution_count": 70,
   "id": "883da060",
   "metadata": {},
   "outputs": [
    {
     "name": "stdout",
     "output_type": "stream",
     "text": [
      "Enter a num :4\n",
      "Enter a num :3\n",
      "Enter a num :2\n",
      "Enter a num :7\n",
      "The last number you entered was a  7\n"
     ]
    }
   ],
   "source": [
    "#46\n",
    "num = 0\n",
    "while num<5 :\n",
    "    num = int(input(\"Enter a num :\"))\n",
    "print('The last number you entered was a ',num)"
   ]
  },
  {
   "cell_type": "code",
   "execution_count": 71,
   "id": "8ed0ebbd",
   "metadata": {},
   "outputs": [
    {
     "name": "stdout",
     "output_type": "stream",
     "text": [
      "Enter a num :5\n",
      "Enter a num :7\n",
      "Adding another number?yes\n",
      "Enter a num :8\n",
      "Adding another number?yes\n",
      "Enter a num :10\n",
      "Adding another number?no\n",
      "The total is  30\n"
     ]
    }
   ],
   "source": [
    "#47\n",
    "num1 = int(input(\"Enter a num :\"))\n",
    "num2 = int(input(\"Enter a num :\"))\n",
    "total = num1+num2\n",
    "answer = input('Adding another number?')\n",
    "while answer == 'yes' :\n",
    "    num = int(input(\"Enter a num :\"))\n",
    "    total+=num\n",
    "    answer = input('Adding another number?')\n",
    "    \n",
    "print('The total is ',total)"
   ]
  },
  {
   "cell_type": "code",
   "execution_count": 73,
   "id": "0114f153",
   "metadata": {},
   "outputs": [
    {
     "name": "stdout",
     "output_type": "stream",
     "text": [
      "Enter the name you like to invite : sabeen\n",
      "More?yes\n",
      "Enter the name you like to invite : wonbin\n",
      "More?yes\n",
      "Enter the name you like to invite : philix\n",
      "More?yes\n",
      "Enter the name you like to invite : hamin\n",
      "More?no\n",
      "The total is  4\n"
     ]
    }
   ],
   "source": [
    "#48\n",
    "name = input('Enter the name you like to invite : ')\n",
    "count = 1\n",
    "answer = input(\"More?\")\n",
    "while answer=='yes' :\n",
    "    name = input('Enter the name you like to invite : ')\n",
    "    count+=1\n",
    "    answer = input(\"More?\")\n",
    "print('The total is ',count)"
   ]
  },
  {
   "cell_type": "code",
   "execution_count": 76,
   "id": "62a481e5",
   "metadata": {},
   "outputs": [
    {
     "name": "stdout",
     "output_type": "stream",
     "text": [
      "Enter a num :500\n",
      "down\n",
      "Enter a num again :25\n",
      "up\n",
      "Enter a num again :48\n",
      "up\n",
      "Enter a num again :50\n",
      "Well done, you took  4 attempts.\n"
     ]
    }
   ],
   "source": [
    "#49\n",
    "compnum=50\n",
    "num = int(input(\"Enter a num :\"))\n",
    "count=1\n",
    "while num!=compnum :\n",
    "    if num>compnum :\n",
    "        print('down')\n",
    "        num = int(input(\"Enter a num again :\"))\n",
    "        count+=1\n",
    "    else :\n",
    "        print('up')\n",
    "        num = int(input(\"Enter a num again :\"))\n",
    "        count+=1\n",
    "        \n",
    "print('Well done, you took ',count, 'attempts.')"
   ]
  },
  {
   "cell_type": "code",
   "execution_count": 79,
   "id": "22ddc052",
   "metadata": {},
   "outputs": [
    {
     "name": "stdout",
     "output_type": "stream",
     "text": [
      "Enter a num (10~20):555\n",
      "Too high\n",
      "Enter a num again :2\n",
      "Too low\n",
      "Enter a num again :205\n",
      "Too high\n",
      "Enter a num again :15\n",
      "Thank you\n"
     ]
    }
   ],
   "source": [
    "#50\n",
    "num = int(input(\"Enter a num (10~20):\"))\n",
    "while num<10 or num>20 :\n",
    "    if num<=10 :\n",
    "        print(\"Too low\")\n",
    "        num = int(input(\"Enter a num again :\"))\n",
    "    elif num>=20 :\n",
    "        print('Too high')\n",
    "        num = int(input(\"Enter a num again :\"))   \n",
    "print('Thank you')"
   ]
  },
  {
   "cell_type": "code",
   "execution_count": null,
   "id": "3de35ab8",
   "metadata": {},
   "outputs": [],
   "source": []
  }
 ],
 "metadata": {
  "kernelspec": {
   "display_name": "Python 3 (ipykernel)",
   "language": "python",
   "name": "python3"
  },
  "language_info": {
   "codemirror_mode": {
    "name": "ipython",
    "version": 3
   },
   "file_extension": ".py",
   "mimetype": "text/x-python",
   "name": "python",
   "nbconvert_exporter": "python",
   "pygments_lexer": "ipython3",
   "version": "3.9.12"
  }
 },
 "nbformat": 4,
 "nbformat_minor": 5
}
